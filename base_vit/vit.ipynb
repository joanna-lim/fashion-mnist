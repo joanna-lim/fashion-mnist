{
 "cells": [
  {
   "cell_type": "code",
   "execution_count": 4,
   "metadata": {},
   "outputs": [],
   "source": [
    "import argparse\n",
    "import datetime\n",
    "import os\n",
    "from solver import SolverTwo\n"
   ]
  },
  {
   "cell_type": "code",
   "execution_count": 5,
   "metadata": {},
   "outputs": [
    {
     "name": "stdout",
     "output_type": "stream",
     "text": [
      "Adjusting learning rate of group 0 to 5.0000e-04.\n"
     ]
    },
    {
     "name": "stderr",
     "output_type": "stream",
     "text": [
      "Epoch [1/20], Step [400/468], Loss: 0.9774570465087891: 100%|██████████| 468/468 [00:44<00:00, 10.47it/s]\n",
      "Accuracy: 69.36%: 100%|██████████| 79/79 [00:04<00:00, 17.07it/s]"
     ]
    },
    {
     "name": "stdout",
     "output_type": "stream",
     "text": [
      "Accuracy: 69.36%\n"
     ]
    },
    {
     "name": "stderr",
     "output_type": "stream",
     "text": [
      "\n",
      "Epoch [2/20], Step [400/468], Loss: 0.686618447303772: 100%|██████████| 468/468 [00:45<00:00, 10.37it/s] \n",
      "Accuracy: 76.10%: 100%|██████████| 79/79 [00:05<00:00, 15.75it/s]"
     ]
    },
    {
     "name": "stdout",
     "output_type": "stream",
     "text": [
      "Accuracy: 76.10%\n"
     ]
    },
    {
     "name": "stderr",
     "output_type": "stream",
     "text": [
      "\n",
      "Epoch [3/20], Step [400/468], Loss: 0.6028719544410706: 100%|██████████| 468/468 [00:46<00:00, 10.11it/s]\n",
      "Accuracy: 77.66%: 100%|██████████| 79/79 [00:06<00:00, 12.97it/s]"
     ]
    },
    {
     "name": "stdout",
     "output_type": "stream",
     "text": [
      "Accuracy: 77.66%\n"
     ]
    },
    {
     "name": "stderr",
     "output_type": "stream",
     "text": [
      "\n",
      "Epoch [4/20], Step [400/468], Loss: 0.4565998315811157: 100%|██████████| 468/468 [00:50<00:00,  9.35it/s]\n",
      "Accuracy: 78.66%: 100%|██████████| 79/79 [00:05<00:00, 15.49it/s]"
     ]
    },
    {
     "name": "stdout",
     "output_type": "stream",
     "text": [
      "Accuracy: 78.66%\n"
     ]
    },
    {
     "name": "stderr",
     "output_type": "stream",
     "text": [
      "\n",
      "Epoch [5/20], Step [400/468], Loss: 0.5542227029800415: 100%|██████████| 468/468 [00:47<00:00,  9.92it/s]\n",
      "Accuracy: 79.48%: 100%|██████████| 79/79 [00:05<00:00, 15.18it/s]"
     ]
    },
    {
     "name": "stdout",
     "output_type": "stream",
     "text": [
      "Accuracy: 79.48%\n"
     ]
    },
    {
     "name": "stderr",
     "output_type": "stream",
     "text": [
      "\n",
      "Epoch [6/20], Step [400/468], Loss: 0.6171485781669617: 100%|██████████| 468/468 [00:45<00:00, 10.30it/s]\n",
      "Accuracy: 78.34%: 100%|██████████| 79/79 [00:05<00:00, 15.35it/s]"
     ]
    },
    {
     "name": "stdout",
     "output_type": "stream",
     "text": [
      "Accuracy: 78.34%\n"
     ]
    },
    {
     "name": "stderr",
     "output_type": "stream",
     "text": [
      "\n",
      "Epoch [7/20], Step [400/468], Loss: 0.598924458026886: 100%|██████████| 468/468 [00:49<00:00,  9.50it/s] \n",
      "Accuracy: 81.28%: 100%|██████████| 79/79 [00:05<00:00, 13.96it/s]"
     ]
    },
    {
     "name": "stdout",
     "output_type": "stream",
     "text": [
      "Accuracy: 81.28%\n"
     ]
    },
    {
     "name": "stderr",
     "output_type": "stream",
     "text": [
      "\n",
      "Epoch [8/20], Step [400/468], Loss: 0.5145308971405029: 100%|██████████| 468/468 [00:51<00:00,  9.14it/s]\n",
      "Accuracy: 82.79%: 100%|██████████| 79/79 [00:05<00:00, 14.95it/s]"
     ]
    },
    {
     "name": "stdout",
     "output_type": "stream",
     "text": [
      "Accuracy: 82.79%\n"
     ]
    },
    {
     "name": "stderr",
     "output_type": "stream",
     "text": [
      "\n",
      "Epoch [9/20], Step [400/468], Loss: 0.5633286833763123: 100%|██████████| 468/468 [00:55<00:00,  8.38it/s]\n",
      "Accuracy: 83.70%: 100%|██████████| 79/79 [00:05<00:00, 13.79it/s]"
     ]
    },
    {
     "name": "stdout",
     "output_type": "stream",
     "text": [
      "Accuracy: 83.70%\n"
     ]
    },
    {
     "name": "stderr",
     "output_type": "stream",
     "text": [
      "\n",
      "Epoch [10/20], Step [400/468], Loss: 0.5017039775848389: 100%|██████████| 468/468 [00:56<00:00,  8.25it/s]\n",
      "Accuracy: 83.67%: 100%|██████████| 79/79 [00:05<00:00, 14.14it/s]"
     ]
    },
    {
     "name": "stdout",
     "output_type": "stream",
     "text": [
      "Accuracy: 83.67%\n"
     ]
    },
    {
     "name": "stderr",
     "output_type": "stream",
     "text": [
      "\n",
      "Epoch [11/20], Step [400/468], Loss: 0.41490691900253296: 100%|██████████| 468/468 [00:57<00:00,  8.19it/s]\n",
      "Accuracy: 83.20%: 100%|██████████| 79/79 [00:05<00:00, 14.38it/s]"
     ]
    },
    {
     "name": "stdout",
     "output_type": "stream",
     "text": [
      "Accuracy: 83.20%\n"
     ]
    },
    {
     "name": "stderr",
     "output_type": "stream",
     "text": [
      "\n",
      "Epoch [12/20], Step [400/468], Loss: 0.4272279739379883: 100%|██████████| 468/468 [00:55<00:00,  8.36it/s] \n",
      "Accuracy: 83.46%: 100%|██████████| 79/79 [00:05<00:00, 14.57it/s]"
     ]
    },
    {
     "name": "stdout",
     "output_type": "stream",
     "text": [
      "Accuracy: 83.46%\n"
     ]
    },
    {
     "name": "stderr",
     "output_type": "stream",
     "text": [
      "\n",
      "Epoch [13/20], Step [400/468], Loss: 0.36274653673171997: 100%|██████████| 468/468 [00:53<00:00,  8.69it/s]\n",
      "Accuracy: 83.50%: 100%|██████████| 79/79 [00:05<00:00, 15.15it/s]"
     ]
    },
    {
     "name": "stdout",
     "output_type": "stream",
     "text": [
      "Accuracy: 83.50%\n"
     ]
    },
    {
     "name": "stderr",
     "output_type": "stream",
     "text": [
      "\n",
      "Epoch [14/20], Step [400/468], Loss: 0.4606435298919678: 100%|██████████| 468/468 [00:51<00:00,  9.16it/s]\n",
      "Accuracy: 85.53%: 100%|██████████| 79/79 [00:05<00:00, 15.54it/s]"
     ]
    },
    {
     "name": "stdout",
     "output_type": "stream",
     "text": [
      "Accuracy: 85.53%\n"
     ]
    },
    {
     "name": "stderr",
     "output_type": "stream",
     "text": [
      "\n",
      "Epoch [15/20], Step [400/468], Loss: 0.2512170970439911: 100%|██████████| 468/468 [00:49<00:00,  9.43it/s] \n",
      "Accuracy: 86.21%: 100%|██████████| 79/79 [00:05<00:00, 15.25it/s]"
     ]
    },
    {
     "name": "stdout",
     "output_type": "stream",
     "text": [
      "Accuracy: 86.21%\n"
     ]
    },
    {
     "name": "stderr",
     "output_type": "stream",
     "text": [
      "\n",
      "Epoch [16/20], Step [400/468], Loss: 0.24693705141544342: 100%|██████████| 468/468 [00:49<00:00,  9.52it/s]\n",
      "Accuracy: 86.02%: 100%|██████████| 79/79 [00:04<00:00, 15.94it/s]"
     ]
    },
    {
     "name": "stdout",
     "output_type": "stream",
     "text": [
      "Accuracy: 86.02%\n"
     ]
    },
    {
     "name": "stderr",
     "output_type": "stream",
     "text": [
      "\n",
      "Epoch [17/20], Step [400/468], Loss: 0.31217116117477417: 100%|██████████| 468/468 [00:50<00:00,  9.20it/s]\n",
      "Accuracy: 84.15%: 100%|██████████| 79/79 [00:05<00:00, 15.39it/s]"
     ]
    },
    {
     "name": "stdout",
     "output_type": "stream",
     "text": [
      "Accuracy: 84.15%\n"
     ]
    },
    {
     "name": "stderr",
     "output_type": "stream",
     "text": [
      "\n",
      "Epoch [18/20], Step [400/468], Loss: 0.4361423850059509: 100%|██████████| 468/468 [00:51<00:00,  9.07it/s] \n",
      "Accuracy: 84.40%: 100%|██████████| 79/79 [00:05<00:00, 15.48it/s]"
     ]
    },
    {
     "name": "stdout",
     "output_type": "stream",
     "text": [
      "Accuracy: 84.40%\n"
     ]
    },
    {
     "name": "stderr",
     "output_type": "stream",
     "text": [
      "\n",
      "Epoch [19/20], Step [400/468], Loss: 0.4436433017253876: 100%|██████████| 468/468 [00:53<00:00,  8.68it/s]\n",
      "Accuracy: 85.63%: 100%|██████████| 79/79 [00:05<00:00, 15.25it/s]"
     ]
    },
    {
     "name": "stdout",
     "output_type": "stream",
     "text": [
      "Accuracy: 85.63%\n"
     ]
    },
    {
     "name": "stderr",
     "output_type": "stream",
     "text": [
      "\n",
      "Epoch [20/20], Step [400/468], Loss: 0.3459458351135254: 100%|██████████| 468/468 [00:51<00:00,  9.15it/s] \n",
      "Accuracy: 86.75%: 100%|██████████| 79/79 [00:04<00:00, 16.64it/s]"
     ]
    },
    {
     "name": "stdout",
     "output_type": "stream",
     "text": [
      "Accuracy: 86.75%\n",
      "Time taken to train and evaluate:  0:18:42.011198\n",
      "Accuracies:  [69.36, 76.1, 77.66, 78.66, 79.48, 78.34, 81.28, 82.79, 83.7, 83.67, 83.2, 83.46, 83.5, 85.53, 86.21, 86.02, 84.15, 84.4, 85.63, 86.75]\n"
     ]
    },
    {
     "name": "stderr",
     "output_type": "stream",
     "text": [
      "\n"
     ]
    }
   ],
   "source": [
    "solver = SolverTwo()\n",
    "start_time = datetime.datetime.now()\n",
    "accuracies = solver.train_and_evaluate()\n",
    "end_time = datetime.datetime.now()\n",
    "\n",
    "print(\"Time taken to train and evaluate: \", end_time - start_time) \n",
    "print(\"Accuracies: \", accuracies)"
   ]
  },
  {
   "cell_type": "code",
   "execution_count": 6,
   "metadata": {},
   "outputs": [],
   "source": [
    "# print('Train accuracy: %.2f%%' % (train_acc))\n",
    "\n",
    "# print('Test accuracy: %.2f%%' % (test_acc))"
   ]
  },
  {
   "cell_type": "code",
   "execution_count": null,
   "metadata": {},
   "outputs": [],
   "source": []
  }
 ],
 "metadata": {
  "kernelspec": {
   "display_name": "venv",
   "language": "python",
   "name": "python3"
  },
  "language_info": {
   "codemirror_mode": {
    "name": "ipython",
    "version": 3
   },
   "file_extension": ".py",
   "mimetype": "text/x-python",
   "name": "python",
   "nbconvert_exporter": "python",
   "pygments_lexer": "ipython3",
   "version": "3.11.5"
  }
 },
 "nbformat": 4,
 "nbformat_minor": 2
}
