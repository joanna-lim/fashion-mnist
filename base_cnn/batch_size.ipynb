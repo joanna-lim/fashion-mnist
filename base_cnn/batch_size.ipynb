{
 "cells": [
  {
   "cell_type": "markdown",
   "metadata": {},
   "source": [
    "# Hyperparameter Tuning: Batch Size"
   ]
  },
  {
   "cell_type": "code",
   "execution_count": null,
   "metadata": {},
   "outputs": [],
   "source": [
    "import torch\n",
    "import torch.nn as nn\n",
    "from torchvision import datasets, transforms\n",
    "\n",
    "transform = transforms.Compose([transforms.ToTensor(), transforms.Normalize((0.5,), (0.5,))])\n",
    "\n",
    "train_dataset = datasets.FashionMNIST(root='../data', train=True, download=True, transform=transform)\n",
    "test_dataset = datasets.FashionMNIST(root='../data', train=False, download=True, transform=transform)"
   ]
  },
  {
   "cell_type": "markdown",
   "metadata": {},
   "source": [
    "#### Run Test Harness\n",
    "Perform CNN on varying batch sizes: [32, 64, 128]"
   ]
  },
  {
   "cell_type": "code",
   "execution_count": null,
   "metadata": {},
   "outputs": [],
   "source": [
    "from test_harness import run_test_harness\n",
    "\n",
    "# control variables:\n",
    "fc_layer_size = 128 # change accordingly\n",
    "activation_fn = nn.ReLU()\n",
    "\n",
    "batch_sizes = [32, 64, 128]\n",
    "accuracies = []\n",
    "for batch_size in batch_sizes:\n",
    "    print(f\"---Batch Size: {batch_size}---\")\n",
    "    accuracy = run_test_harness(train_dataset, test_dataset, batch_size, fc_layer_size, activation_fn)\n",
    "    accuracies.append((batch_size, accuracy))"
   ]
  }
 ],
 "metadata": {
  "language_info": {
   "name": "python"
  }
 },
 "nbformat": 4,
 "nbformat_minor": 2
}
