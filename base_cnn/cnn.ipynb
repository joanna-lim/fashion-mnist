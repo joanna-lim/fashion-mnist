{
 "cells": [
  {
   "cell_type": "markdown",
   "metadata": {},
   "source": [
    "# CNN For Fashion MNIST Dataset\n",
    "\n",
    "Contains the code for CNN base model. "
   ]
  },
  {
   "cell_type": "code",
   "execution_count": 1,
   "metadata": {},
   "outputs": [],
   "source": [
    "import torch\n",
    "import torch.nn as nn\n",
    "from torchvision import datasets, transforms"
   ]
  },
  {
   "cell_type": "markdown",
   "metadata": {},
   "source": [
    "#### Getting datasets"
   ]
  },
  {
   "cell_type": "code",
   "execution_count": 2,
   "metadata": {},
   "outputs": [],
   "source": [
    "transform = transforms.Compose([transforms.ToTensor(), transforms.Normalize((0.5,), (0.5,))])\n",
    "\n",
    "train_dataset = datasets.FashionMNIST(root='../data', train=True, download=True, transform=transform)\n",
    "test_dataset = datasets.FashionMNIST(root='../data', train=False, download=True, transform=transform)"
   ]
  },
  {
   "cell_type": "code",
   "execution_count": 6,
   "metadata": {},
   "outputs": [
    {
     "data": {
      "image/png": "[encoded data removed]",
      "text/plain": [
       "<Figure size 800x800 with 9 Axes>"
      ]
     },
     "metadata": {},
     "output_type": "display_data"
    }
   ],
   "source": [
    "# plot the first few images\n",
    "import matplotlib.pyplot as plt\n",
    "\n",
    "def print_first_n_images(train_dataset, n):\n",
    "    fig, axes = plt.subplots(3, 3, figsize=(8, 8))\n",
    "    for i in range(n):\n",
    "        image, label = train_dataset[i]\n",
    "        ax = axes[i // 3, i % 3]\n",
    "        ax.imshow(image.squeeze(), cmap='gray')\n",
    "        ax.axis('off')\n",
    "    plt.show()\n",
    "\n",
    "print_first_n_images(train_dataset, 9)"
   ]
  },
  {
   "cell_type": "markdown",
   "metadata": {},
   "source": [
    "#### CNN"
   ]
  },
  {
   "cell_type": "code",
   "execution_count": 4,
   "metadata": {},
   "outputs": [
    {
     "name": "stderr",
     "output_type": "stream",
     "text": [
      "Epoch [1/20], Step [800/938], Loss: 0.259164422750473: 100%|██████████| 938/938 [00:16<00:00, 56.72it/s]  \n",
      "Accuracy: 86.40%: 100%|██████████| 157/157 [00:01<00:00, 119.79it/s]\n",
      "Epoch [2/20], Step [800/938], Loss: 0.18663428723812103: 100%|██████████| 938/938 [00:17<00:00, 54.77it/s]\n",
      "Accuracy: 88.66%: 100%|██████████| 157/157 [00:01<00:00, 120.13it/s]\n",
      "Epoch [3/20], Step [800/938], Loss: 0.28159597516059875: 100%|██████████| 938/938 [00:16<00:00, 58.42it/s]\n",
      "Accuracy: 89.44%: 100%|██████████| 157/157 [00:01<00:00, 117.68it/s]\n",
      "Epoch [4/20], Step [800/938], Loss: 0.1334751397371292: 100%|██████████| 938/938 [00:16<00:00, 58.40it/s] \n",
      "Accuracy: 89.92%: 100%|██████████| 157/157 [00:01<00:00, 117.99it/s]\n",
      "Epoch [5/20], Step [800/938], Loss: 0.11810232698917389: 100%|██████████| 938/938 [00:16<00:00, 57.91it/s]\n",
      "Accuracy: 89.92%: 100%|██████████| 157/157 [00:01<00:00, 120.10it/s]\n",
      "Epoch [6/20], Step [800/938], Loss: 0.27412527799606323: 100%|██████████| 938/938 [00:16<00:00, 55.82it/s]\n",
      "Accuracy: 91.21%: 100%|██████████| 157/157 [00:01<00:00, 115.48it/s]\n",
      "Epoch [7/20], Step [800/938], Loss: 0.15613433718681335: 100%|██████████| 938/938 [00:16<00:00, 57.64it/s]\n",
      "Accuracy: 91.09%: 100%|██████████| 157/157 [00:01<00:00, 114.54it/s]\n",
      "Epoch [8/20], Step [800/938], Loss: 0.1617351919412613: 100%|██████████| 938/938 [00:16<00:00, 56.48it/s] \n",
      "Accuracy: 90.70%: 100%|██████████| 157/157 [00:01<00:00, 110.36it/s]\n",
      "Epoch [9/20], Step [800/938], Loss: 0.08104532212018967: 100%|██████████| 938/938 [00:16<00:00, 56.13it/s]\n",
      "Accuracy: 91.53%: 100%|██████████| 157/157 [00:01<00:00, 114.88it/s]\n",
      "Epoch [10/20], Step [800/938], Loss: 0.10799489915370941: 100%|██████████| 938/938 [00:17<00:00, 54.12it/s]\n",
      "Accuracy: 91.48%: 100%|██████████| 157/157 [00:01<00:00, 103.67it/s]\n",
      "Epoch [11/20], Step [800/938], Loss: 0.12073174864053726: 100%|██████████| 938/938 [00:16<00:00, 56.90it/s] \n",
      "Accuracy: 90.97%: 100%|██████████| 157/157 [00:01<00:00, 113.20it/s]\n",
      "Epoch [12/20], Step [800/938], Loss: 0.07679037749767303: 100%|██████████| 938/938 [00:16<00:00, 55.46it/s]\n",
      "Accuracy: 91.10%: 100%|██████████| 157/157 [00:01<00:00, 114.91it/s]"
     ]
    },
    {
     "name": "stdout",
     "output_type": "stream",
     "text": [
      "Early stopping at epoch 12\n",
      "Final accuracy: 91.53%\n"
     ]
    },
    {
     "name": "stderr",
     "output_type": "stream",
     "text": [
      "\n"
     ]
    }
   ],
   "source": [
    "# optimal hyperparameters:\n",
    "batch_size = 64\n",
    "fc_layer_size = 512\n",
    "activation_fn = nn.PReLU()\n",
    "\n",
    "from test_harness import load_dataset, prep_pixels, define_model\n",
    "from tqdm import tqdm\n",
    "from torch import optim\n",
    "\n",
    "train_loader, test_loader = load_dataset(train_dataset, test_dataset, batch_size)\n",
    "train_loader, test_loader = prep_pixels(train_loader, test_loader)\n",
    "\n",
    "model = define_model(fc_layer_size, activation_fn)\n",
    "criterion = nn.CrossEntropyLoss()\n",
    "optimizer = optim.SGD(model.parameters(), lr=0.01, momentum=0.9)\n",
    "\n",
    "accuracies = []\n",
    "\n",
    "best_accuracy = 0.0\n",
    "patience_counter = 0\n",
    "\n",
    "for epoch in range(20):\n",
    "    pbar = tqdm(enumerate(train_loader), total=len(train_loader))\n",
    "    model.train()\n",
    "    for i, (images, labels) in pbar:\n",
    "        optimizer.zero_grad()\n",
    "        outputs = model(images)\n",
    "        loss = criterion(outputs, labels)\n",
    "        loss.backward()\n",
    "        optimizer.step()\n",
    "\n",
    "        if (i + 1) % 200 == 0:\n",
    "            pbar.set_description(f'Epoch [{epoch + 1}/{20}], Step [{i + 1}/{len(train_loader)}], Loss: {loss.item()}')\n",
    "\n",
    "    model.eval()\n",
    "    with torch.no_grad():\n",
    "        correct = 0\n",
    "        total = 0\n",
    "        pbar_test = tqdm(test_loader)\n",
    "        for images, labels in pbar_test:\n",
    "            outputs = model(images)\n",
    "            _, predicted = torch.max(outputs.data, 1)\n",
    "            total += labels.size(0)\n",
    "            correct += (predicted == labels).sum().item()\n",
    "            pbar_test.set_description(f'Accuracy: {100 * correct / total:.2f}%')\n",
    "\n",
    "        accuracy = 100 * correct / total\n",
    "\n",
    "        if accuracy > best_accuracy:\n",
    "            best_accuracy = accuracy\n",
    "            patience_counter = 0\n",
    "\n",
    "        else:\n",
    "            patience_counter += 1\n",
    "            if patience_counter >= 3:\n",
    "                print(f'Early stopping at epoch {epoch + 1}')\n",
    "                break\n",
    "\n",
    "print(f'Final accuracy: {best_accuracy:.2f}%')\n"
   ]
  },
  {
   "cell_type": "code",
   "execution_count": 5,
   "metadata": {},
   "outputs": [],
   "source": [
    "torch.save(model.state_dict(), 'cnn.pt')"
   ]
  },
  {
   "cell_type": "markdown",
   "metadata": {},
   "source": [
    "#### Final Accuracy for CNN: 91.53%"
   ]
  }
 ],
 "metadata": {
  "kernelspec": {
   "display_name": "Python 3",
   "language": "python",
   "name": "python3"
  },
  "language_info": {
   "codemirror_mode": {
    "name": "ipython",
    "version": 3
   },
   "file_extension": ".py",
   "mimetype": "text/x-python",
   "name": "python",
   "nbconvert_exporter": "python",
   "pygments_lexer": "ipython3",
   "version": "3.11.5"
  }
 },
 "nbformat": 4,
 "nbformat_minor": 2
}
